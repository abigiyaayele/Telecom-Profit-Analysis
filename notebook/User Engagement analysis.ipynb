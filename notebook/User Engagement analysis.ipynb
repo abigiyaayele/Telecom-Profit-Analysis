{
 "cells": [
  {
   "cell_type": "markdown",
   "metadata": {},
   "source": [
    "User Engagement analysis"
   ]
  },
  {
   "cell_type": "code",
   "execution_count": 2,
   "metadata": {},
   "outputs": [
    {
     "name": "stdout",
     "output_type": "stream",
     "text": [
      "Connected to PostgreSQL database!\n",
      "      Bearer Id            Start  Start ms              End  End ms  \\\n",
      "0  1.311448e+19   4/4/2019 12:01     770.0  4/25/2019 14:35   662.0   \n",
      "1  1.311448e+19   4/9/2019 13:04     235.0   4/25/2019 8:15   606.0   \n",
      "2  1.311448e+19   4/9/2019 17:42       1.0  4/25/2019 11:58   652.0   \n",
      "3  1.311448e+19   4/10/2019 0:31     486.0   4/25/2019 7:36   171.0   \n",
      "4  1.311448e+19  4/12/2019 20:10     565.0  4/25/2019 10:40   954.0   \n",
      "\n",
      "   Dur. (ms)          IMSI  MSISDN/Number          IMEI  \\\n",
      "0  1823652.0  2.082014e+14   3.366496e+10  3.552121e+13   \n",
      "1  1365104.0  2.082019e+14   3.368185e+10  3.579401e+13   \n",
      "2  1361762.0  2.082003e+14   3.376063e+10  3.528151e+13   \n",
      "3  1321509.0  2.082014e+14   3.375034e+10  3.535661e+13   \n",
      "4  1089009.0  2.082014e+14   3.369980e+10  3.540701e+13   \n",
      "\n",
      "      Last Location Name  ...  Youtube DL (Bytes)  Youtube UL (Bytes)  \\\n",
      "0  9.16456699548519E+015  ...          15854611.0           2501332.0   \n",
      "1                L77566A  ...          20247395.0          19111729.0   \n",
      "2                D42335A  ...          19725661.0          14699576.0   \n",
      "3                T21824A  ...          21388122.0          15146643.0   \n",
      "4                D88865A  ...          15259380.0          18962873.0   \n",
      "\n",
      "   Netflix DL (Bytes)  Netflix UL (Bytes)  Gaming DL (Bytes)  \\\n",
      "0           8198936.0           9656251.0        278082303.0   \n",
      "1          18338413.0          17227132.0        608750074.0   \n",
      "2          17587794.0           6163408.0        229584621.0   \n",
      "3          13994646.0           1097942.0        799538153.0   \n",
      "4          17124581.0            415218.0        527707248.0   \n",
      "\n",
      "   Gaming UL (Bytes)  Other DL (Bytes)  Other UL (Bytes)  Total UL (Bytes)  \\\n",
      "0         14344150.0       171744450.0         8814393.0        36749741.0   \n",
      "1          1170709.0       526904238.0        15055145.0        53800391.0   \n",
      "2           395630.0       410692588.0         4215763.0        27883638.0   \n",
      "3         10849722.0       749039933.0        12797283.0        43324218.0   \n",
      "4          3529801.0       550709500.0        13910322.0        38542814.0   \n",
      "\n",
      "   Total DL (Bytes)  \n",
      "0       308879636.0  \n",
      "1       653384965.0  \n",
      "2       279807335.0  \n",
      "3       846028530.0  \n",
      "4       569138589.0  \n",
      "\n",
      "[5 rows x 55 columns]\n",
      "Connection closed.\n"
     ]
    }
   ],
   "source": [
    "import pandas as pd\n",
    "from sklearn.cluster import KMeans\n",
    "from sklearn.preprocessing import StandardScaler\n",
    "import matplotlib.pyplot as plt\n",
    "import os\n",
    "os.chdir('..')\n",
    "from db_connection.connection import PostgresConnection\n",
    "\n",
    "from src.utils import missing_values_table, convert_bytes_to_megabytes\n",
    "\n",
    "\n"
   ]
  },
  {
   "cell_type": "code",
   "execution_count": 3,
   "metadata": {},
   "outputs": [
    {
     "name": "stdout",
     "output_type": "stream",
     "text": [
      "Connected to PostgreSQL database!\n",
      "      Bearer Id            Start  Start ms              End  End ms  \\\n",
      "0  1.311448e+19   4/4/2019 12:01     770.0  4/25/2019 14:35   662.0   \n",
      "1  1.311448e+19   4/9/2019 13:04     235.0   4/25/2019 8:15   606.0   \n",
      "2  1.311448e+19   4/9/2019 17:42       1.0  4/25/2019 11:58   652.0   \n",
      "3  1.311448e+19   4/10/2019 0:31     486.0   4/25/2019 7:36   171.0   \n",
      "4  1.311448e+19  4/12/2019 20:10     565.0  4/25/2019 10:40   954.0   \n",
      "\n",
      "   Dur. (ms)          IMSI  MSISDN/Number          IMEI  \\\n",
      "0  1823652.0  2.082014e+14   3.366496e+10  3.552121e+13   \n",
      "1  1365104.0  2.082019e+14   3.368185e+10  3.579401e+13   \n",
      "2  1361762.0  2.082003e+14   3.376063e+10  3.528151e+13   \n",
      "3  1321509.0  2.082014e+14   3.375034e+10  3.535661e+13   \n",
      "4  1089009.0  2.082014e+14   3.369980e+10  3.540701e+13   \n",
      "\n",
      "      Last Location Name  ...  Youtube DL (Bytes)  Youtube UL (Bytes)  \\\n",
      "0  9.16456699548519E+015  ...          15854611.0           2501332.0   \n",
      "1                L77566A  ...          20247395.0          19111729.0   \n",
      "2                D42335A  ...          19725661.0          14699576.0   \n",
      "3                T21824A  ...          21388122.0          15146643.0   \n",
      "4                D88865A  ...          15259380.0          18962873.0   \n",
      "\n",
      "   Netflix DL (Bytes)  Netflix UL (Bytes)  Gaming DL (Bytes)  \\\n",
      "0           8198936.0           9656251.0        278082303.0   \n",
      "1          18338413.0          17227132.0        608750074.0   \n",
      "2          17587794.0           6163408.0        229584621.0   \n",
      "3          13994646.0           1097942.0        799538153.0   \n",
      "4          17124581.0            415218.0        527707248.0   \n",
      "\n",
      "   Gaming UL (Bytes)  Other DL (Bytes)  Other UL (Bytes)  Total UL (Bytes)  \\\n",
      "0         14344150.0       171744450.0         8814393.0        36749741.0   \n",
      "1          1170709.0       526904238.0        15055145.0        53800391.0   \n",
      "2           395630.0       410692588.0         4215763.0        27883638.0   \n",
      "3         10849722.0       749039933.0        12797283.0        43324218.0   \n",
      "4          3529801.0       550709500.0        13910322.0        38542814.0   \n",
      "\n",
      "   Total DL (Bytes)  \n",
      "0       308879636.0  \n",
      "1       653384965.0  \n",
      "2       279807335.0  \n",
      "3       846028530.0  \n",
      "4       569138589.0  \n",
      "\n",
      "[5 rows x 55 columns]\n",
      "Connection closed.\n"
     ]
    }
   ],
   "source": [
    "db = PostgresConnection(dbname='postgres', user='postgres', password='ocho')\n",
    "db.connect()\n",
    "# Example query\n",
    "query = \"SELECT * FROM xdr_data\"\n",
    "result = db.execute_query(query)\n",
    "\n",
    "# Convert the result to a Pandas DataFrame\n",
    "df = pd.DataFrame(result, columns=[desc[0] for desc in db.cursor.description])\n",
    "print(df.head())  # Display the first few rows of the DataFrame\n",
    "\n",
    "# Close the connection when done\n",
    "db.close_connection()\n"
   ]
  },
  {
   "cell_type": "code",
   "execution_count": 31,
   "metadata": {},
   "outputs": [],
   "source": [
    "\n",
    "# Aggregate the engagement metrics per customer id (MSISDN)\n",
    "engagement_metrics = df.groupby('MSISDN/Number').agg({\n",
    "    'Start': 'count',  # sessions frequency\n",
    "    'Dur. (ms).1': 'sum',  # session duration\n",
    "    'Total UL (Bytes)': 'sum',  # total upload traffic\n",
    "    'Total DL (Bytes)': 'sum'  # total download traffic\n",
    "})\n",
    "engagement_metrics.columns = ['Sessions Frequency', 'Session Duration', 'Total Upload Traffic', 'Total Download Traffic']"
   ]
  },
  {
   "cell_type": "code",
   "execution_count": 32,
   "metadata": {},
   "outputs": [],
   "source": [
    "# Report the top 10 customers per engagement metric\n",
    "top_10_sessions_freq = engagement_metrics.sort_values('Sessions Frequency', ascending=False).head(10)\n",
    "top_10_session_dur = engagement_metrics.sort_values('Session Duration', ascending=False).head(10)\n",
    "top_10_total_upload = engagement_metrics.sort_values('Total Upload Traffic', ascending=False).head(10)\n",
    "top_10_total_download = engagement_metrics.sort_values('Total Download Traffic', ascending=False).head(10)"
   ]
  },
  {
   "cell_type": "code",
   "execution_count": 33,
   "metadata": {},
   "outputs": [
    {
     "name": "stdout",
     "output_type": "stream",
     "text": [
      "Top 10 Customers per Sessions Frequency:\n",
      "               Sessions Frequency  Session Duration  Total Upload Traffic  \\\n",
      "MSISDN/Number                                                               \n",
      "3.362632e+10                   18      8.791937e+09           669650721.0   \n",
      "3.362578e+10                   17      1.855376e+10           729577380.0   \n",
      "3.361489e+10                   17      9.966906e+09           689483001.0   \n",
      "3.365973e+10                   16      4.035436e+09           624260321.0   \n",
      "3.376054e+10                   15      9.279442e+09           703478581.0   \n",
      "3.367588e+10                   15      4.865954e+09           581568792.0   \n",
      "3.366716e+10                   13      8.744922e+09           566326364.0   \n",
      "3.362708e+10                   12      4.703519e+09           445251947.0   \n",
      "3.360452e+10                   12      5.207995e+09           391775856.0   \n",
      "3.376041e+10                   12      5.321674e+09           521518890.0   \n",
      "\n",
      "               Total Download Traffic  \n",
      "MSISDN/Number                          \n",
      "3.362632e+10             7.301517e+09  \n",
      "3.362578e+10             7.770043e+09  \n",
      "3.361489e+10             8.156743e+09  \n",
      "3.365973e+10             7.081602e+09  \n",
      "3.376054e+10             7.811295e+09  \n",
      "3.367588e+10             7.309542e+09  \n",
      "3.366716e+10             5.052068e+09  \n",
      "3.362708e+10             5.309479e+09  \n",
      "3.360452e+10             5.096079e+09  \n",
      "3.376041e+10             6.610852e+09  \n",
      "\n",
      "Top 10 Customers per Session Duration:\n",
      "               Sessions Frequency  Session Duration  Total Upload Traffic  \\\n",
      "MSISDN/Number                                                               \n",
      "3.362578e+10                   17      1.855376e+10           729577380.0   \n",
      "3.361489e+10                   17      9.966906e+09           689483001.0   \n",
      "3.376054e+10                   15      9.279442e+09           703478581.0   \n",
      "3.362632e+10                   18      8.791937e+09           669650721.0   \n",
      "3.366716e+10                   13      8.744922e+09           566326364.0   \n",
      "3.366284e+10                    9      6.614274e+09           406424372.0   \n",
      "3.366469e+10                    9      6.288736e+09           402180804.0   \n",
      "3.360313e+10                   12      6.287767e+09           435587631.0   \n",
      "3.366746e+10                    6      5.649885e+09           266222647.0   \n",
      "3.376041e+10                   12      5.321674e+09           521518890.0   \n",
      "\n",
      "               Total Download Traffic  \n",
      "MSISDN/Number                          \n",
      "3.362578e+10             7.770043e+09  \n",
      "3.361489e+10             8.156743e+09  \n",
      "3.376054e+10             7.811295e+09  \n",
      "3.362632e+10             7.301517e+09  \n",
      "3.366716e+10             5.052068e+09  \n",
      "3.366284e+10             3.593674e+09  \n",
      "3.366469e+10             5.279827e+09  \n",
      "3.360313e+10             4.540607e+09  \n",
      "3.366746e+10             2.334299e+09  \n",
      "3.376041e+10             6.610852e+09  \n",
      "\n",
      "Top 10 Customers per Session Upload Traffic:\n",
      "               Sessions Frequency  Session Duration  Total Upload Traffic  \\\n",
      "MSISDN/Number                                                               \n",
      "3.362578e+10                   17      1.855376e+10           729577380.0   \n",
      "3.376054e+10                   15      9.279442e+09           703478581.0   \n",
      "3.361489e+10                   17      9.966906e+09           689483001.0   \n",
      "3.362632e+10                   18      8.791937e+09           669650721.0   \n",
      "3.365973e+10                   16      4.035436e+09           624260321.0   \n",
      "3.367588e+10                   15      4.865954e+09           581568792.0   \n",
      "3.366716e+10                   13      8.744922e+09           566326364.0   \n",
      "3.369879e+10                   11      5.169134e+09           530343105.0   \n",
      "3.376041e+10                   12      5.321674e+09           521518890.0   \n",
      "3.376127e+10                   10      3.481634e+09           496467102.0   \n",
      "\n",
      "               Total Download Traffic  \n",
      "MSISDN/Number                          \n",
      "3.362578e+10             7.770043e+09  \n",
      "3.376054e+10             7.811295e+09  \n",
      "3.361489e+10             8.156743e+09  \n",
      "3.362632e+10             7.301517e+09  \n",
      "3.365973e+10             7.081602e+09  \n",
      "3.367588e+10             7.309542e+09  \n",
      "3.366716e+10             5.052068e+09  \n",
      "3.369879e+10             6.010556e+09  \n",
      "3.376041e+10             6.610852e+09  \n",
      "3.376127e+10             4.554647e+09  \n",
      "\n",
      "Top 10 Customers per Session Download Traffic:\n",
      "               Sessions Frequency  Session Duration  Total Upload Traffic  \\\n",
      "MSISDN/Number                                                               \n",
      "3.361489e+10                   17      9.966906e+09           689483001.0   \n",
      "3.376054e+10                   15      9.279442e+09           703478581.0   \n",
      "3.362578e+10                   17      1.855376e+10           729577380.0   \n",
      "3.367588e+10                   15      4.865954e+09           581568792.0   \n",
      "3.362632e+10                   18      8.791937e+09           669650721.0   \n",
      "3.365973e+10                   16      4.035436e+09           624260321.0   \n",
      "3.366646e+10                   11      4.536764e+09           405060976.0   \n",
      "3.376041e+10                   12      5.321674e+09           521518890.0   \n",
      "3.366471e+10                   11      2.927790e+09           471244453.0   \n",
      "3.369879e+10                   11      5.169134e+09           530343105.0   \n",
      "\n",
      "               Total Download Traffic  \n",
      "MSISDN/Number                          \n",
      "3.361489e+10             8.156743e+09  \n",
      "3.376054e+10             7.811295e+09  \n",
      "3.362578e+10             7.770043e+09  \n",
      "3.367588e+10             7.309542e+09  \n",
      "3.362632e+10             7.301517e+09  \n",
      "3.365973e+10             7.081602e+09  \n",
      "3.366646e+10             6.903440e+09  \n",
      "3.376041e+10             6.610852e+09  \n",
      "3.366471e+10             6.400774e+09  \n",
      "3.369879e+10             6.010556e+09  \n"
     ]
    }
   ],
   "source": [
    "# Display the top 10 customers per engagement metric\n",
    "print(\"Top 10 Customers per Sessions Frequency:\")\n",
    "print(top_10_sessions_freq)\n",
    "print(\"\\nTop 10 Customers per Session Duration:\")\n",
    "print(top_10_session_dur)\n",
    "print(\"\\nTop 10 Customers per Session Upload Traffic:\")\n",
    "print(top_10_total_upload)\n",
    "print(\"\\nTop 10 Customers per Session Download Traffic:\")\n",
    "print(top_10_total_download)\n"
   ]
  },
  {
   "cell_type": "code",
   "execution_count": 34,
   "metadata": {},
   "outputs": [],
   "source": [
    "# Normalize each engagement metric\n",
    "normalized_engagement_metrics = (engagement_metrics - engagement_metrics.min()) / (engagement_metrics.max() - engagement_metrics.min())"
   ]
  },
  {
   "cell_type": "code",
   "execution_count": 35,
   "metadata": {},
   "outputs": [],
   "source": [
    "# Run k-means clustering (k=3) on normalized engagement metrics\n",
    "\n",
    "kmeans = KMeans(n_clusters=3, random_state=0)\n",
    "clusters = kmeans.fit_predict(normalized_engagement_metrics)"
   ]
  },
  {
   "cell_type": "code",
   "execution_count": 36,
   "metadata": {},
   "outputs": [],
   "source": [
    "# Add cluster labels to the engagement metrics dataframe\n",
    "engagement_metrics['Cluster'] = clusters"
   ]
  },
  {
   "cell_type": "code",
   "execution_count": 37,
   "metadata": {},
   "outputs": [],
   "source": [
    "# Compute the minimum, maximum, average, and total non-normalized metrics for each cluster\n",
    "cluster_metrics = engagement_metrics.groupby('Cluster').agg({\n",
    "    'Sessions Frequency': ['min', 'max', 'mean', 'sum'],\n",
    "    'Session Duration': ['min', 'max', 'mean', 'sum'],\n",
    "    'Total Upload Traffic': ['min', 'max', 'mean', 'sum'],\n",
    "    'Total Download Traffic': ['min', 'max', 'mean', 'sum']\n",
    "})"
   ]
  },
  {
   "cell_type": "code",
   "execution_count": 38,
   "metadata": {},
   "outputs": [],
   "source": [
    "# Aggregate user total traffic per application\n",
    "application_traffic = df.groupby('MSISDN/Number').agg({\n",
    "    'Social Media DL (Bytes)': 'sum',\n",
    "    'Social Media UL (Bytes)': 'sum',\n",
    "    'Google DL (Bytes)': 'sum',\n",
    "    'Google UL (Bytes)': 'sum',\n",
    "    'Email DL (Bytes)': 'sum',\n",
    "    'Email UL (Bytes)': 'sum',\n",
    "    'Youtube DL (Bytes)': 'sum',\n",
    "    'Youtube UL (Bytes)': 'sum',\n",
    "    'Netflix DL (Bytes)': 'sum',\n",
    "    'Netflix UL (Bytes)': 'sum',\n",
    "    'Gaming DL (Bytes)': 'sum',\n",
    "    'Gaming UL (Bytes)': 'sum',\n",
    "    'Other DL (Bytes)': 'sum',\n",
    "    'Other UL (Bytes)': 'sum'\n",
    "})\n"
   ]
  },
  {
   "cell_type": "code",
   "execution_count": 39,
   "metadata": {},
   "outputs": [],
   "source": [
    "# Derive the top 10 most engaged users per application\n",
    "top_10_social_media = application_traffic.sort_values('Social Media DL (Bytes)', ascending=False).head(10)\n",
    "top_10_google = application_traffic.sort_values('Google DL (Bytes)', ascending=False).head(10)\n",
    "top_10_email = application_traffic.sort_values('Email DL (Bytes)', ascending=False).head(10)"
   ]
  },
  {
   "cell_type": "code",
   "execution_count": 40,
   "metadata": {},
   "outputs": [
    {
     "data": {
      "image/png": "[encoded data removed]",
      "text/plain": [
       "<Figure size 640x480 with 1 Axes>"
      ]
     },
     "metadata": {},
     "output_type": "display_data"
    }
   ],
   "source": [
    "# Plot the top 3 most used applications\n",
    "top_3_applications = application_traffic[['Social Media DL (Bytes)', 'Google DL (Bytes)', 'Email DL (Bytes)']].sum().nlargest(3)\n",
    "top_3_applications.plot(kind='bar', xlabel='Application', ylabel='Total Traffic (Bytes)', title='Top 3 Most Used Applications')\n",
    "\n",
    "plt.show()"
   ]
  }
 ],
 "metadata": {
  "kernelspec": {
   "display_name": "Python 3",
   "language": "python",
   "name": "python3"
  },
  "language_info": {
   "codemirror_mode": {
    "name": "ipython",
    "version": 3
   },
   "file_extension": ".py",
   "mimetype": "text/x-python",
   "name": "python",
   "nbconvert_exporter": "python",
   "pygments_lexer": "ipython3",
   "version": "3.11.1"
  }
 },
 "nbformat": 4,
 "nbformat_minor": 2
}
